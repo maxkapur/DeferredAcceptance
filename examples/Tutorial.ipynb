{
 "cells": [
  {
   "cell_type": "code",
   "execution_count": 2,
   "metadata": {},
   "outputs": [
    {
     "name": "stderr",
     "output_type": "stream",
     "text": [
      "┌ Info: Precompiling DeferredAcceptance [7ba42312-65e6-11eb-2a40-f37f14131e13]\n",
      "└ @ Base loading.jl:1317\n"
     ]
    }
   ],
   "source": [
    "using DeferredAcceptance"
   ]
  },
  {
   "cell_type": "markdown",
   "metadata": {},
   "source": [
    "Most school-choice algorithms start with each side ranking the other\n",
    "in terms of preferability. First we input the student preferences.\n",
    "Each column is a student, and each row is a school. So, the 2 in cell\n",
    "(3, 4) means that student 4 has named school 3 as her 2nd choice."
   ]
  },
  {
   "cell_type": "code",
   "execution_count": 7,
   "metadata": {},
   "outputs": [
    {
     "data": {
      "text/plain": [
       "4×10 Matrix{Int64}:\n",
       " 3  3  4  3  4  3  3  3  3  4\n",
       " 4  4  3  4  3  4  4  4  4  3\n",
       " 2  1  2  2  2  1  2  2  2  2\n",
       " 1  2  1  1  1  2  1  1  1  1"
      ]
     },
     "execution_count": 7,
     "metadata": {},
     "output_type": "execute_result"
    }
   ],
   "source": [
    "students = [3 3 4 3 4 3 3 3 3 4;\n",
    "            4 4 3 4 3 4 4 4 4 3;\n",
    "            2 1 2 2 2 1 2 2 2 2;\n",
    "            1 2 1 1 1 2 1 1 1 1]"
   ]
  },
  {
   "cell_type": "markdown",
   "metadata": {},
   "source": [
    "Now we input the school preferences over the students. Notice that the\n",
    "shape is transposed: each column is a school, and row a student. This\n",
    "format improves computation speed. Also notice that now we have ties:\n",
    "for example, school 1 has four students tied for 1st place. You can\n",
    "also write the first column as `[1, 1, 2, 2, 4, 1, 2, 3, 3, 1]`. Basically,\n",
    "they just need to be positive integers in descending order of preference. "
   ]
  },
  {
   "cell_type": "code",
   "execution_count": 8,
   "metadata": {},
   "outputs": [
    {
     "data": {
      "text/plain": [
       "10×4 Matrix{Int64}:\n",
       "  1  5  7  5\n",
       "  1  1  1  1\n",
       "  5  1  1  1\n",
       "  5  1  1  1\n",
       " 10  9  7  8\n",
       "  1  5  4  5\n",
       "  5  1  4  1\n",
       "  8  5  7  8\n",
       "  8  9  7  8\n",
       "  1  5  4  5"
      ]
     },
     "execution_count": 8,
     "metadata": {},
     "output_type": "execute_result"
    }
   ],
   "source": [
    "schools = [1 5 7 5;\n",
    "           1 1 1 1;\n",
    "           5 1 1 1;\n",
    "           5 1 1 1;\n",
    "           10 9 7 8;\n",
    "           1 5 4 5;\n",
    "           5 1 4 1;\n",
    "           8 5 7 8;\n",
    "           8 9 7 8;\n",
    "           1 5 4 5]"
   ]
  },
  {
   "cell_type": "markdown",
   "metadata": {},
   "source": [
    "Finally we have the capacities, or number of students each school can accept."
   ]
  },
  {
   "cell_type": "code",
   "execution_count": 9,
   "metadata": {},
   "outputs": [
    {
     "data": {
      "text/plain": [
       "4-element Vector{Int64}:\n",
       " 3\n",
       " 2\n",
       " 2\n",
       " 3"
      ]
     },
     "execution_count": 9,
     "metadata": {},
     "output_type": "execute_result"
    }
   ],
   "source": [
    "capacities = [3, 2, 2, 3]"
   ]
  },
  {
   "cell_type": "markdown",
   "metadata": {},
   "source": [
    "Let's use the DA algorithm to find a stable match. The DA algorithm requires\n",
    "that both students and schools have strict preferences, so we need to run\n",
    "some random tiebreaking to make the school preferences strict. We will use\n",
    "STB, which is usually the best choice.       "
   ]
  },
  {
   "cell_type": "code",
   "execution_count": 10,
   "metadata": {},
   "outputs": [
    {
     "data": {
      "text/plain": [
       "10×4 Matrix{Int64}:\n",
       "  1   5   7   5\n",
       "  2   2   2   2\n",
       "  5   1   1   1\n",
       "  6   3   3   3\n",
       " 10  10  10  10\n",
       "  3   7   4   6\n",
       "  7   4   6   4\n",
       "  8   6   8   8\n",
       "  9   9   9   9\n",
       "  4   8   5   7"
      ]
     },
     "execution_count": 10,
     "metadata": {},
     "output_type": "execute_result"
    }
   ],
   "source": [
    "schools_tiebroken = singletiebreaking(schools)"
   ]
  },
  {
   "cell_type": "markdown",
   "metadata": {},
   "source": [
    "Now we run DA."
   ]
  },
  {
   "cell_type": "code",
   "execution_count": 11,
   "metadata": {},
   "outputs": [
    {
     "name": "stdout",
     "output_type": "stream",
     "text": [
      "Round 1\n",
      "  School 4 rejects student 1\n",
      "  School 4 rejects student 10\n",
      "  School 4 rejects student 8\n",
      "  School 4 rejects student 9\n",
      "  School 4 rejects student 5\n",
      "Round 2\n",
      "  School 3 rejects student 10\n",
      "  School 3 rejects student 1\n",
      "  School 3 rejects student 8\n",
      "  School 3 rejects student 9\n",
      "  School 3 rejects student 5\n",
      "Round 3\n",
      "DA terminated in 3 iterations\n"
     ]
    },
    {
     "data": {
      "text/plain": [
       "([1, 3, 4, 4, 2, 3, 4, 1, 1, 2], [3, 1, 1, 1, 3, 1, 1, 3, 3, 3])"
      ]
     },
     "execution_count": 11,
     "metadata": {},
     "output_type": "execute_result"
    }
   ],
   "source": [
    "assn, ranks = deferredacceptance(students, schools_tiebroken, capacities; verbose=true)"
   ]
  },
  {
   "cell_type": "markdown",
   "metadata": {},
   "source": [
    "Make sure the match is stable."
   ]
  },
  {
   "cell_type": "code",
   "execution_count": 12,
   "metadata": {},
   "outputs": [],
   "source": [
    "@assert isstable(students, schools, capacities, assn)"
   ]
  },
  {
   "cell_type": "markdown",
   "metadata": {},
   "source": [
    "The first output is the assignment. Student 1 goes to school 1, student 2\n",
    "goes to school 3, etc. If the market had too many students, we would have\n",
    "some students assigned to school 5, which means no school accepted them."
   ]
  },
  {
   "cell_type": "code",
   "execution_count": 14,
   "metadata": {},
   "outputs": [
    {
     "name": "stdout",
     "output_type": "stream",
     "text": [
      "[1, 3, 4, 4, 2, 3, 4, 1, 1, 2]\n"
     ]
    }
   ],
   "source": [
    "println(assn)"
   ]
  },
  {
   "cell_type": "markdown",
   "metadata": {},
   "source": [
    "The second output is the rank each student gave to their assigned school.\n",
    "So student 1 got her 3rd choice, student 2 got her 2nd, etc.   "
   ]
  },
  {
   "cell_type": "code",
   "execution_count": 15,
   "metadata": {},
   "outputs": [
    {
     "name": "stdout",
     "output_type": "stream",
     "text": [
      "[3, 1, 1, 1, 3, 1, 1, 3, 3, 3]\n"
     ]
    }
   ],
   "source": [
    "println(ranks)"
   ]
  },
  {
   "cell_type": "markdown",
   "metadata": {},
   "source": [
    "A common measure of student disutility:"
   ]
  },
  {
   "cell_type": "code",
   "execution_count": 16,
   "metadata": {},
   "outputs": [
    {
     "name": "stdout",
     "output_type": "stream",
     "text": [
      "20\n"
     ]
    }
   ],
   "source": [
    "println(sum(ranks))"
   ]
  },
  {
   "cell_type": "markdown",
   "metadata": {},
   "source": [
    "Since the tiebreaking mechanism involves randomness, you might have\n",
    "found a slightly different assignment.\n",
    "\n",
    "Now let's try something different. Suppose the schools don't have any\n",
    "preferences over the students at all (as in New Orleans). Then we can\n",
    "start with an arbitrary assignment and exchange Pareto-improving pairs\n",
    "to get a better one. This is called top trading cycles and is a classic\n",
    "solution to the \"housing market\" problem. In school choice, it produces\n",
    "an assignment that tends to maximize student welfare.      "
   ]
  },
  {
   "cell_type": "code",
   "execution_count": 17,
   "metadata": {},
   "outputs": [
    {
     "name": "stdout",
     "output_type": "stream",
     "text": [
      "Searching for Pareto-improving cycles at rank 1\n",
      "Current assignment: [4, 1, 2, 1, 2, 1, 4, 3, 4, 3]\n",
      "  Swap requests: Dict(5 => 1, 4 => 1, 6 => 8, 7 => 7, 2 => 8, 10 => 1, 9 => 9, 8 => 9, 3 => 7, 1 => 7)\n",
      "  Cycle involving students [7]\n",
      "  Cycle involving students [9]\n",
      "Searching for Pareto-improving cycles at rank 2\n",
      "Current assignment: [4, 1, 2, 1, 2, 1, 4, 3, 4, 3]\n",
      "  Swap requests: Dict(5 => 8, 4 => 8, 6 => 7, 2 => 9, 10 => 8, 8 => 10, 3 => 10, 1 => 10)\n",
      "  Cycle involving students [8, 10]\n",
      "  Cycle involving students [10, 8]\n",
      "Searching for Pareto-improving cycles at rank 3\n",
      "Current assignment: [4, 1, 2, 1, 2, 1, 4, 3, 4, 3]\n",
      "  Swap requests: Dict(5 => 5, 4 => 6, 6 => 2, 2 => 2, 3 => 5, 1 => 4)\n",
      "  Cycle involving students [5]\n",
      "  Cycle involving students [2]\n"
     ]
    },
    {
     "data": {
      "text/plain": [
       "([4, 1, 2, 1, 2, 1, 4, 3, 4, 3], [1, 3, 3, 3, 3, 3, 1, 2, 1, 2])"
      ]
     },
     "execution_count": 17,
     "metadata": {},
     "output_type": "execute_result"
    }
   ],
   "source": [
    "assn, ranks = TTC_match(students, capacities; verbose=true)"
   ]
  },
  {
   "cell_type": "code",
   "execution_count": 18,
   "metadata": {},
   "outputs": [
    {
     "name": "stdout",
     "output_type": "stream",
     "text": [
      "[4, 1, 2, 1, 2, 1, 4, 3, 4, 3]\n"
     ]
    }
   ],
   "source": [
    "# Same output format\n",
    "println(assn)"
   ]
  },
  {
   "cell_type": "code",
   "execution_count": 19,
   "metadata": {},
   "outputs": [
    {
     "name": "stdout",
     "output_type": "stream",
     "text": [
      "[1, 3, 3, 3, 3, 3, 1, 2, 1, 2]\n"
     ]
    }
   ],
   "source": [
    "println(ranks)"
   ]
  },
  {
   "cell_type": "code",
   "execution_count": 20,
   "metadata": {},
   "outputs": [
    {
     "name": "stdout",
     "output_type": "stream",
     "text": [
      "22\n"
     ]
    }
   ],
   "source": [
    "# Student disutility\n",
    "println(sum(ranks))\n",
    "# 21"
   ]
  },
  {
   "cell_type": "markdown",
   "metadata": {},
   "source": [
    "Looks like TTC did a little better, but what are the tradeoffs?"
   ]
  },
  {
   "cell_type": "code",
   "execution_count": 21,
   "metadata": {},
   "outputs": [
    {
     "name": "stdout",
     "output_type": "stream",
     "text": [
      "Student feas. :  true\n",
      "School feas.  :  true\n",
      "Stability     :  false\n"
     ]
    },
    {
     "data": {
      "text/plain": [
       "false"
      ]
     },
     "execution_count": 21,
     "metadata": {},
     "output_type": "execute_result"
    }
   ],
   "source": [
    "isstable(students, schools, capacities, assn; verbose=true)"
   ]
  },
  {
   "cell_type": "markdown",
   "metadata": {},
   "source": [
    "### Nonatomic model\n",
    "\n",
    "Let's try something different: the nonatomic DA model. Under this model, we\n",
    "have a measure (usually a percentage) of students associated with each preference\n",
    "list. Instead of admitting individual students, stable matches can be characterized\n",
    "by score cutoffs at each school."
   ]
  },
  {
   "cell_type": "code",
   "execution_count": 24,
   "metadata": {},
   "outputs": [
    {
     "name": "stdout",
     "output_type": "stream",
     "text": [
      "\n",
      "Round 1\n",
      "  Demand at school 1 was 0.75 > capacity 0.2\n",
      "    Old cutoff:  0.0\n",
      "    New cutoff:  0.7333333333333334\n",
      "  Demand at school 2 was 0.25 > capacity 0.2\n",
      "    Old cutoff:  0.0\n",
      "    New cutoff:  0.19999999999999996\n",
      "\n",
      "Round 2\n",
      "  Demand at school 1 was 0.2133333333333333 > capacity 0.2\n",
      "    Old cutoff:  0.7333333333333334\n",
      "    New cutoff:  0.75\n",
      "  Demand at school 2 was 0.6400000000000001 > capacity 0.2\n",
      "    Old cutoff:  0.19999999999999996\n",
      "    New cutoff:  0.75\n",
      "\n",
      "Round 3\n",
      "  Demand at school 1 was 0.234375 > capacity 0.2\n",
      "    Old cutoff:  0.75\n",
      "    New cutoff:  0.7866666666666666\n",
      "  Demand at school 2 was 0.203125 > capacity 0.2\n",
      "    Old cutoff:  0.75\n",
      "    New cutoff:  0.7538461538461538\n",
      "  Demand at school 3 was 0.5625 > capacity 0.2\n",
      "    Old cutoff:  0.0\n",
      "    New cutoff:  0.6444444444444444\n",
      "\n",
      "Round 4\n",
      "  Demand at school 1 was 0.20020512820512823 > capacity 0.2\n",
      "    Old cutoff:  0.7866666666666666\n",
      "    New cutoff:  0.7868852459016393\n",
      "  Demand at school 2 was 0.20676923076923076 > capacity 0.2\n",
      "    Old cutoff:  0.7538461538461538\n",
      "    New cutoff:  0.7619047619047619\n",
      "  Demand at school 3 was 0.2108535612535613 > capacity 0.2\n",
      "    Old cutoff:  0.6444444444444444\n",
      "    New cutoff:  0.6627464545140089\n",
      "  Demand at school 4 was 0.38217207977207973 > capacity 0.2\n",
      "    Old cutoff:  0.0\n",
      "    New cutoff:  0.4766755328665656\n",
      "\n",
      "Round 5\n",
      "  Demand at school 1 was 0.20042935206869633 > capacity 0.2\n",
      "    Old cutoff:  0.7868852459016393\n",
      "    New cutoff:  0.7873417721518987\n",
      "  Demand at school 2 was 0.20003903200624515 > capacity 0.2\n",
      "    Old cutoff:  0.7619047619047619\n",
      "    New cutoff:  0.7619512195121951\n",
      "  Demand at school 3 was 0.20219416310167146 > capacity 0.2\n",
      "    Old cutoff:  0.6627464545140089\n",
      "    New cutoff:  0.66640625\n",
      "  Demand at school 4 was 0.20793641077095515 > capacity 0.2\n",
      "    Old cutoff:  0.4766755328665656\n",
      "    New cutoff:  0.4966495139613777\n",
      "\n",
      "Round 6\n",
      "  Demand at school 1 was 0.2000024698981167 > capacity 0.2\n",
      "    Old cutoff:  0.7873417721518987\n",
      "    New cutoff:  0.7873443983402489\n",
      "  Demand at school 2 was 0.20008150663785118 > capacity 0.2\n",
      "    Old cutoff:  0.7619512195121951\n",
      "    New cutoff:  0.7620481927710843\n",
      "  Demand at school 3 was 0.20012823595245446 > capacity 0.2\n",
      "    Old cutoff:  0.66640625\n",
      "    New cutoff:  0.6666200065049754\n",
      "  Demand at school 4 was 0.20123337715625805 > capacity 0.2\n",
      "    Old cutoff:  0.4966495139613777\n",
      "    New cutoff:  0.4997345935830816\n",
      "\n",
      "Round 7\n",
      "  Demand at school 1 was 0.20000515547667852 > capacity 0.2\n",
      "    Old cutoff:  0.7873443983402489\n",
      "    New cutoff:  0.7873498799039231\n",
      "  Demand at school 2 was 0.20000046867969812 > capacity 0.2\n",
      "    Old cutoff:  0.7620481927710843\n",
      "    New cutoff:  0.7620487503856834\n",
      "  Demand at school 3 was 0.20002612111579848 > capacity 0.2\n",
      "    Old cutoff:  0.6666200065049754\n",
      "    New cutoff:  0.6666635421060579\n",
      "  Demand at school 4 was 0.20009028150528085 > capacity 0.2\n",
      "    Old cutoff:  0.4997345935830816\n",
      "    New cutoff:  0.49996031526027385\n",
      "\n",
      "Round 8\n",
      "  Demand at school 1 was 0.20000002964420288 > capacity 0.2\n",
      "    Old cutoff:  0.7873498799039231\n",
      "    New cutoff:  0.7873499114231349\n",
      "  Demand at school 2 was 0.2000009782586946 > capacity 0.2\n",
      "    Old cutoff:  0.7620487503856834\n",
      "    New cutoff:  0.7620499142693846\n",
      "  Demand at school 3 was 0.2000015387655835 > capacity 0.2\n",
      "    Old cutoff:  0.6666635421060579\n",
      "    New cutoff:  0.6666661067196719\n",
      "  Demand at school 4 was 0.2000146004605861 > capacity 0.2\n",
      "    Old cutoff:  0.49996031526027385\n",
      "    New cutoff:  0.4999968166441314\n",
      "\n",
      "Round 9\n",
      "  Demand at school 1 was 0.20000006187499308 > capacity 0.2\n",
      "    Old cutoff:  0.7873499114231349\n",
      "    New cutoff:  0.7873499772117284\n",
      "  Demand at school 2 was 0.20000000562499937 > capacity 0.2\n",
      "    Old cutoff:  0.7620499142693846\n",
      "    New cutoff:  0.7620499209617299\n",
      "  Demand at school 3 was 0.20000031346816158 > capacity 0.2\n",
      "    Old cutoff:  0.6666661067196719\n",
      "    New cutoff:  0.6666666291666666\n",
      "  Demand at school 4 was 0.20000108285705762 > capacity 0.2\n",
      "    Old cutoff:  0.4999968166441314\n",
      "    New cutoff:  0.49999952378935375\n",
      "\n",
      "Round 10\n",
      "  Demand at school 1 was 0.2000000003557818 > capacity 0.2\n",
      "    Old cutoff:  0.7873499772117284\n",
      "    New cutoff:  0.7873499775900135\n",
      "  Demand at school 2 was 0.20000001174080076 > capacity 0.2\n",
      "    Old cutoff:  0.7620499209617299\n",
      "    New cutoff:  0.7620499349303513\n",
      "  Demand at school 3 was 0.20000001846780538 > capacity 0.2\n",
      "    Old cutoff:  0.6666666291666666\n",
      "    New cutoff:  0.6666666599463429\n",
      "  Demand at school 4 was 0.20000017520204996 > capacity 0.2\n",
      "    Old cutoff:  0.49999952378935375\n",
      "    New cutoff:  0.4999999617945121\n",
      "\n",
      "Round 11\n",
      "  Demand at school 1 was 0.2000000007426069 > capacity 0.2\n",
      "    Old cutoff:  0.7873499775900135\n",
      "    New cutoff:  0.7873499783795903\n",
      "  Demand at school 2 was 0.20000000006750976 > capacity 0.2\n",
      "    Old cutoff:  0.7620499349303513\n",
      "    New cutoff:  0.7620499350106711\n",
      "  Demand at school 3 was 0.20000000376215538 > capacity 0.2\n",
      "    Old cutoff:  0.6666666599463429\n",
      "    New cutoff:  0.6666666662166019\n",
      "  Demand at school 4 was 0.20000001299605896 > capacity 0.2\n",
      "    Old cutoff:  0.4999999617945121\n",
      "    New cutoff:  0.49999999428465985\n",
      "\n",
      "Round 12\n",
      "  Demand at school 1 was 0.20000000000427 > capacity 0.2\n",
      "    Old cutoff:  0.7873499783795903\n",
      "    New cutoff:  0.7873499783841303\n",
      "  Demand at school 2 was 0.20000000014090988 > capacity 0.2\n",
      "    Old cutoff:  0.7620499350106711\n",
      "    New cutoff:  0.7620499351783186\n",
      "  Demand at school 3 was 0.20000000022164557 > capacity 0.2\n",
      "    Old cutoff:  0.6666666662166019\n",
      "    New cutoff:  0.6666666665860111\n",
      "  Demand at school 4 was 0.20000000210272334 > capacity 0.2\n",
      "    Old cutoff:  0.49999999428465985\n",
      "    New cutoff:  0.4999999995414682\n",
      "\n",
      "Round 13\n",
      "  Demand at school 1 was 0.20000000000891263 > capacity 0.2\n",
      "    Old cutoff:  0.7873499783841303\n",
      "    New cutoff:  0.7873499783936067\n",
      "  Demand at school 3 was 0.20000000004515234 > capacity 0.2\n",
      "    Old cutoff:  0.6666666665860111\n",
      "    New cutoff:  0.6666666666612651\n",
      "  Demand at school 4 was 0.20000000015597513 > capacity 0.2\n",
      "    Old cutoff:  0.4999999995414682\n",
      "    New cutoff:  0.499999999931406\n",
      "\n",
      "Round 14\n",
      "  Demand at school 2 was 0.2000000000025014 > capacity 0.2\n",
      "    Old cutoff:  0.7620499351783186\n",
      "    New cutoff:  0.7620499351812947\n",
      "  Demand at school 3 was 0.20000000000240714 > capacity 0.2\n",
      "    Old cutoff:  0.6666666666612651\n",
      "    New cutoff:  0.666666666665277\n",
      "  Demand at school 4 was 0.2000000000249833 > capacity 0.2\n",
      "    Old cutoff:  0.499999999931406\n",
      "    New cutoff:  0.4999999999938642\n",
      "\n",
      "Round 15\n",
      "  Demand at school 4 was 0.20000000000198467 > capacity 0.2\n",
      "    Old cutoff:  0.4999999999938642\n",
      "    New cutoff:  0.49999999999882583\n",
      "\n",
      "Round 16\n",
      "Cutoffs: [0.7873499783936067, 0.7620499351812947, 0.666666666665277, 0.49999999999882583]\n",
      "[0.7873499783936067, 0.7620499351812947, 0.666666666665277, 0.49999999999882583]\n"
     ]
    }
   ],
   "source": [
    "# Possible preference lists: Most students have (1, 2, 3, 4), but some prefer 2 to 1.\n",
    "students = [1 2;\n",
    "            2 1;\n",
    "            3 3;\n",
    "            4 4]\n",
    "\n",
    "# Percentage of students with each preference list.\n",
    "students_dist = [0.75, 0.25]\n",
    "\n",
    "#=  School capacities. Schools have no preference list; assume student preferability is\n",
    "    independently distributed in each group.        =#\n",
    "capacities = [0.2, 0.2, 0.2, 0.2]\n",
    "\n",
    "# Run nonatomic DA.\n",
    "assn, rdist, cutoffs = nonatomicdeferredacceptance(students, students_dist, nothing, capacities;\n",
    "                                                   verbose=true, return_cutoffs=true)\n",
    "\n",
    "# Equivalently,\n",
    "# cutoffs = nonatomicdeferredacceptance_iid(students, students_dist, capacities)\n",
    "\n",
    "# As expected, school 1 is most selective.\n",
    "println(cutoffs)\n",
    "# [0.7873499783936067, 0.7620499351812947, 0.666666666665277, 0.49999999999882583]"
   ]
  },
  {
   "cell_type": "code",
   "execution_count": null,
   "metadata": {},
   "outputs": [],
   "source": []
  }
 ],
 "metadata": {
  "kernelspec": {
   "display_name": "Julia 1.6.1",
   "language": "julia",
   "name": "julia-1.6"
  },
  "language_info": {
   "file_extension": ".jl",
   "mimetype": "application/julia",
   "name": "julia",
   "version": "1.6.1"
  }
 },
 "nbformat": 4,
 "nbformat_minor": 4
}
